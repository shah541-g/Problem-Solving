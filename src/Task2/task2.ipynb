{
 "cells": [
  {
   "cell_type": "markdown",
   "metadata": {},
   "source": [
    "## Leetcode problem"
   ]
  },
  {
   "cell_type": "code",
   "execution_count": null,
   "metadata": {},
   "outputs": [],
   "source": [
    "class Solution:\n",
    "    def checkInclusion(self, s1: str, s2: str) -> bool:\n",
    "        len1 = len(s1)\n",
    "        len2 = len(s2)\n",
    "\n",
    "        if len1 > len2:\n",
    "            return False\n",
    "\n",
    "        s1_sorted = sorted(s1)\n",
    "\n",
    "        for i in range(len2 - len1 + 1):\n",
    "            substring = s2[i:i+len1]\n",
    "            if sorted(substring) == s1_sorted:\n",
    "                return True\n",
    "\n",
    "        return False "
   ]
  },
  {
   "cell_type": "markdown",
   "metadata": {},
   "source": [
    "## geeks for geeks problem"
   ]
  },
  {
   "cell_type": "code",
   "execution_count": 1,
   "metadata": {},
   "outputs": [],
   "source": [
    "class Solution:\n",
    "    def areAnagrams(self, s1, s2):\n",
    "     if len(s1) != len(s2):\n",
    "      \n",
    "          return False\n",
    "      \n",
    "     return sorted(s1) == sorted(s2)\n",
    "      \n",
    "     s1 =\" silent\"\n",
    "     s2 = \"listen\"\n",
    "      \n",
    "     sol=Solution()\n",
    "     if sol.areAnagrams(s1,s2):\n",
    "      print(\"they are anagrams.\")\n",
    "     else:\n",
    "      print(\"they are not anagrams.\")"
   ]
  }
 ],
 "metadata": {
  "kernelspec": {
   "display_name": "Python 3",
   "language": "python",
   "name": "python3"
  },
  "language_info": {
   "codemirror_mode": {
    "name": "ipython",
    "version": 3
   },
   "file_extension": ".py",
   "mimetype": "text/x-python",
   "name": "python",
   "nbconvert_exporter": "python",
   "pygments_lexer": "ipython3",
   "version": "3.13.5"
  }
 },
 "nbformat": 4,
 "nbformat_minor": 2
}
