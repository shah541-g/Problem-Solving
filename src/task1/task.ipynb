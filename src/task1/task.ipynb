{
 "cells": [
  {
   "cell_type": "code",
   "execution_count": 1,
   "metadata": {},
   "outputs": [
    {
     "name": "stdout",
     "output_type": "stream",
     "text": [
      "Duplicate characters found.\n"
     ]
    }
   ],
   "source": [
    "def is_unique(str):\n",
    "    for i in range(len(str)):\n",
    "        for j in range(i + 1, len(str)):\n",
    "            if str[i] == str[j]:\n",
    "                return False\n",
    "    return True\n",
    "\n",
    "user_input = input(\"Enter a string: \")\n",
    "\n",
    "if is_unique(user_input):\n",
    "    print(\"All characters are unique.\")\n",
    "else:\n",
    "    print(\"Duplicate characters found.\")"
   ]
  }
 ],
 "metadata": {
  "kernelspec": {
   "display_name": "Python 3",
   "language": "python",
   "name": "python3"
  },
  "language_info": {
   "codemirror_mode": {
    "name": "ipython",
    "version": 3
   },
   "file_extension": ".py",
   "mimetype": "text/x-python",
   "name": "python",
   "nbconvert_exporter": "python",
   "pygments_lexer": "ipython3",
   "version": "3.13.5"
  }
 },
 "nbformat": 4,
 "nbformat_minor": 2
}
